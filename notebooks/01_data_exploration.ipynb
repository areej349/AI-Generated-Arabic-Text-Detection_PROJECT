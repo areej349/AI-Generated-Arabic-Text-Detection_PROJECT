{
 "cells": [
  {
   "cell_type": "code",
   "execution_count": 18,
   "id": "d6f13b5b",
   "metadata": {},
   "outputs": [
    {
     "name": "stdout",
     "output_type": "stream",
     "text": [
      "DatasetDict({\n",
      "    by_polishing: Dataset({\n",
      "        features: ['original_abstract', 'allam_generated_abstract', 'jais_generated_abstract', 'llama_generated_abstract', 'openai_generated_abstract'],\n",
      "        num_rows: 2851\n",
      "    })\n",
      "    from_title: Dataset({\n",
      "        features: ['original_abstract', 'allam_generated_abstract', 'jais_generated_abstract', 'llama_generated_abstract', 'openai_generated_abstract'],\n",
      "        num_rows: 2963\n",
      "    })\n",
      "    from_title_and_content: Dataset({\n",
      "        features: ['original_abstract', 'allam_generated_abstract', 'jais_generated_abstract', 'llama_generated_abstract', 'openai_generated_abstract'],\n",
      "        num_rows: 2574\n",
      "    })\n",
      "})\n"
     ]
    }
   ],
   "source": [
    "from datasets import load_dataset\n",
    "import pandas as pd\n",
    "\n",
    "dataset = load_dataset(\"KFUPM-JRCAI/arabic-generated-abstracts\")\n",
    "\n",
    "# عرض أسماء التقسيمات المتاحة\n",
    "print(dataset)"
   ]
  },
  {
   "cell_type": "code",
   "execution_count": 19,
   "id": "4f114cc7",
   "metadata": {},
   "outputs": [
    {
     "name": "stdout",
     "output_type": "stream",
     "text": [
      "{'original_abstract': 'كثيرا ما ارتبطت المصادر التاريخية في الأندلس خاصة منها كتب التراجم والفهرسات والبرامج وغيرها بدراسة حياة العلماء والرواة والقضاة والساسة ؛ وقد تطورت هذه المادة حتى ترك لنا المؤلفون الأندلسيون سلسلة متواصلة الحلقات من كتب التـراجم كالصلة لابن بشكوال ، وصلة الصلة لابن الزبير، والتكملة لكتاب الصلة لابن الآبار، والذيل والتكملة لكتابي الموصول والصلة لابن عبد الملك المراكشي إضافة إلى الإحاطة في أخبار غرناطة لابن الخطيب ، إلا أنها لم تنس أن تشير في ثنايا أو بالأحرى في خواتم هذه المؤلفات إلى فئة المرأة العالمة التي ساهمت في الإنتاج الفكري والحضاري الأندلسي. ومن خلالها سنسعى إلى الوقوف على حالة التعليم عند المرأة الأندلسية ، وكيف كانت تأخذ فنون العلم. وما مدى إسهامها في الفكر التربوي والإنتاج الفكري الأندلسيين ؟.', 'allam_generated_abstract': 'يتناول هذا البحث موضوع التعليم بين النساء الأندلسيات من خلال دراسة المصادر التاريخية المتعلقة بتراجم العلماء والرواة والقضاة والساسة. يركز البحث على إبراز دور المرأة العالمة ومساهمتها في الإنتاج الفكري والحضاري الأندلسي. من خلال تحليل كتب التراجم مثل الصلة لابن بشكوال وصلة الصلة لابن الزبير والتكملة لكتاب الصلة لابن الآبار وغيرها، يسعى البحث إلى فهم كيفية تلقي المرأة الأندلسية للعلوم ومدى تأثيرها على الفكر التربوي والإنتاج الفكري الأندلسي.', 'jais_generated_abstract': 'تدرس هذه الدراسة دور المرأة في التعليم في الأندلس من خلال مصادر تاريخية مثل كتب التراجم والفهارس والبرامج. على الرغم من أن هذه المصادر تركز بشكل أساسي على العلماء الذكور، إلا أنها توفر أيضا معلومات عن النساء العالمات ومساهماتهن في الإنتاج الفكري والحضاري الأندلسي. تسعى الدراسة إلى فهم حالة التعليم بين النساء في الأندلس، وكيف كن يكتسبن المعرفة، ودورهن في الفكر التربوي والإنتاج الفكري في المنطقة.', 'llama_generated_abstract': 'يُقدم هذا البحث دراسة شاملة حول حالة التعليم عند المرأة الأندلسية خلال العصور الوسطى. يُستكشف البحث من خلال سلسلة من المؤلفات التاريخية الأندلسية، مثل \"الصلة\" لابن بشكوال و\"الإحاطة في أخبار غرناطة\" لابن الخطيب، الدور الذي لعبته المرأة في الإنتاج الفكري والحضاري الأندلسي. يُسلط البحث الضوء على كيفية تأثر المرأة الأندلسية بالفنون العلمية وتأثيرها في الفكر التربوي الأندلسي. يُقدم البحث تحليلاً مفصلاً حول إسهامات المرأة في الحياة الفكرية والثقافية الأندلسية، مما يوفر رؤية أعمق حول التاريخ الحضاري للمرأة في الأندلس. يُعتبر هذا البحث مساهمة قيمة في فهم تاريخ التعليم عند المرأة في الأندلس وتأثيرها في الفكر التربوي والفكري في ذلك العصر.', 'openai_generated_abstract': 'صور نظام التعليم عند المرأة الأندلسية تستند إلى دراسة دقيقة للمصادر التاريخية التي وثقت حياة العلماء والمثقفين في الأندلس، لا سيما كتب التراجم الشهيرة مثل \"الصلة\" لابن بشكوال و\"صلة الصلة\" لابن الزبير و\"التكملة\" لابن الآبار، وغيرها من الأعمال التي تتابعت لتسجل مراحل تطور البحث العلمي في تلك المنطقة. على الرغم من التركيز الأساسي لهذه المصادر على العلماء الذكور، إلا أن بعضها أشار إلى وجود مجموعة من النساء العالمات اللاتي كن جزءاً من ذلك النشاط الفكري والحضاري. في هذا السياق، يستهدف هذا البحث تحليل دور المرأة الأندلسية في النظام التعليمي، وتحديد الكيفية التي كانت تتلقى بها العلوم والمعارف. بالإضافة إلى ذلك، يهدف إلى تقييم مدى إسهامها في الفكر التربوي والإسهامات الأخرى في المشهد الفكري الأندلسي. يستعرض البحث دور المرأة في المجتمع الأندلسي وكيف أسهمت في النهضة الفكرية من خلال التعلم والمشاركة في الحياة الثقافية، مما يعكس أهمية العلم والتعليم لدى المرأة الأندلسية ومساهمتها الفعالة في بناء التراث التعليمي. توضح الدراسة أن النساء لم يكنَّ مجرد متلقيات للعلوم بل كنَّ أيضاً منتجات ومساهمات في المعرفة، مما يفسح المجال لفهم أكبر لدورهن في إثراء الثقافة الأندلسية.'}\n"
     ]
    }
   ],
   "source": [
    "# عرض أول سجل من مجموعة بيانات 'by_polishing'\n",
    "print(dataset['by_polishing'][0])"
   ]
  },
  {
   "cell_type": "code",
   "execution_count": 20,
   "id": "8a9ea280",
   "metadata": {},
   "outputs": [
    {
     "name": "stdout",
     "output_type": "stream",
     "text": [
      "{'original_abstract': Value('string'), 'allam_generated_abstract': Value('string'), 'jais_generated_abstract': Value('string'), 'llama_generated_abstract': Value('string'), 'openai_generated_abstract': Value('string')}\n"
     ]
    }
   ],
   "source": [
    "print(dataset[\"by_polishing\"].features)"
   ]
  },
  {
   "cell_type": "code",
   "execution_count": 21,
   "id": "fa333836",
   "metadata": {},
   "outputs": [
    {
     "name": "stdout",
     "output_type": "stream",
     "text": [
      "                                   original_abstract  \\\n",
      "0  كثيرا ما ارتبطت المصادر التاريخية في الأندلس خ...   \n",
      "1  يعد العامل الثقافي احد ابرز الاسباب التي يعزى ...   \n",
      "2  شكلت تلك الجهود والمساعي الرائدة التي قام بها ...   \n",
      "3  يقوم المقال على اشكالية الضرائب الغير شرعية في...   \n",
      "4  تتفق المصادر التاريخية المتوفرة حول موضوع تطور...   \n",
      "\n",
      "                            allam_generated_abstract  \\\n",
      "0  يتناول هذا البحث موضوع التعليم بين النساء الأن...   \n",
      "1  يتناول هذا البحث دراسة انهيار دولة الموحدين من...   \n",
      "2  هدفت هذه الدراسة إلى تسليط الضوء على جهود قادة...   \n",
      "3  يتناول هذا البحث إشكالية الضرائب غير الشرعية ف...   \n",
      "4  تتناول هذه الدراسة حركة الانتصار للحريات الديم...   \n",
      "\n",
      "                             jais_generated_abstract  \\\n",
      "0  تدرس هذه الدراسة دور المرأة في التعليم في الأن...   \n",
      "1  كان العامل الثقافي من بين الأسباب الرئيسية الت...   \n",
      "2  تدرس هذه الدراسة جهود قادة الثورة الجزائرية خل...   \n",
      "3  تدرس المقالة مشكلة الضرائب غير الشرعية في مراح...   \n",
      "4  حركة انتصار الحريات الديمقراطية (MTLD)، وهي حر...   \n",
      "\n",
      "                            llama_generated_abstract  \\\n",
      "0  يُقدم هذا البحث دراسة شاملة حول حالة التعليم ع...   \n",
      "1  يعد العامل الثقافي أحد أبرز الأسباب التي يعزى ...   \n",
      "2  شكلت الجهود التي بذلها قادة الثورة الجزائرية خ...   \n",
      "3  يقوم البحث على دراسة الضرائب غير الشرعية في دو...   \n",
      "4  تُظهر المصادر التاريخية المتاحة حول تطور الحرك...   \n",
      "\n",
      "                           openai_generated_abstract  \n",
      "0  صور نظام التعليم عند المرأة الأندلسية تستند إل...  \n",
      "1  انهيار دولة الموحدين يعود بشكل كبير للعوامل ال...  \n",
      "2  جهود قادة الثورة الجزائرية خلال المرحلة الأولى...  \n",
      "3  المقال يناقش قضية الضرائب غير الشرعية في دولتي...  \n",
      "4  حركة انتصار الحريات الديمقراطية (MTLD) في الجز...  \n"
     ]
    }
   ],
   "source": [
    "import pandas as pd\n",
    "\n",
    "# تحويل البيانات إلى DataFrame من مجموعة 'by_polishing'\n",
    "df = pd.DataFrame(dataset['by_polishing'])\n",
    "# معاينة أول 5 صفوف من مجموعة البيانات المحولة لـ DataFrame\n",
    "print(df.head())"
   ]
  },
  {
   "cell_type": "code",
   "execution_count": 22,
   "id": "17970ce4",
   "metadata": {},
   "outputs": [
    {
     "name": "stdout",
     "output_type": "stream",
     "text": [
      "\n",
      "معلومات الأعمدة وأنواع البيانات:\n",
      "original_abstract            object\n",
      "allam_generated_abstract     object\n",
      "jais_generated_abstract      object\n",
      "llama_generated_abstract     object\n",
      "openai_generated_abstract    object\n",
      "dtype: object\n",
      "\n",
      "وصف كامل للبيانات:\n",
      "<class 'pandas.core.frame.DataFrame'>\n",
      "RangeIndex: 2851 entries, 0 to 2850\n",
      "Data columns (total 5 columns):\n",
      " #   Column                     Non-Null Count  Dtype \n",
      "---  ------                     --------------  ----- \n",
      " 0   original_abstract          2851 non-null   object\n",
      " 1   allam_generated_abstract   2851 non-null   object\n",
      " 2   jais_generated_abstract    2851 non-null   object\n",
      " 3   llama_generated_abstract   2851 non-null   object\n",
      " 4   openai_generated_abstract  2851 non-null   object\n",
      "dtypes: object(5)\n",
      "memory usage: 111.5+ KB\n",
      "None\n"
     ]
    }
   ],
   "source": [
    "print(\"\\nمعلومات الأعمدة وأنواع البيانات:\")\n",
    "print(df.dtypes)\n",
    "\n",
    "print(\"\\nوصف كامل للبيانات:\")\n",
    "print(df.info())"
   ]
  },
  {
   "cell_type": "code",
   "execution_count": 23,
   "id": "ad7155df",
   "metadata": {},
   "outputs": [],
   "source": [
    "# تحويلها إلى DataFrame للحفظ \n",
    "df_by_polishing = pd.DataFrame(dataset['by_polishing'])\n",
    "df_from_title = pd.DataFrame(dataset['from_title'])\n",
    "df_from_title_and_content = pd.DataFrame(dataset['from_title_and_content'])\n",
    "\n",
    "\n",
    "#  حفظ البيانات كـ CSV\n",
    "df_by_polishing.to_csv(\"../data/raw/by_polishing.csv\", index=False)\n",
    "df_from_title.to_csv(\"../data/raw/from_title.csv\", index=False)\n",
    "df_from_title_and_content.to_csv(\"../data/raw/from_title_and_content.csv\", index=False)"
   ]
  },
  {
   "cell_type": "code",
   "execution_count": 25,
   "id": "b8cbaf20",
   "metadata": {},
   "outputs": [
    {
     "name": "stdout",
     "output_type": "stream",
     "text": [
      "                                                   text  label\n",
      "0     كثيرا ما ارتبطت المصادر التاريخية في الأندلس خ...  human\n",
      "1     يعد العامل الثقافي احد ابرز الاسباب التي يعزى ...  human\n",
      "2     شكلت تلك الجهود والمساعي الرائدة التي قام بها ...  human\n",
      "3     يقوم المقال على اشكالية الضرائب الغير شرعية في...  human\n",
      "4     تتفق المصادر التاريخية المتوفرة حول موضوع تطور...  human\n",
      "...                                                 ...    ...\n",
      "2846  إنّ الدارس لشعر المتنبّي يواجه ثروة لغوية واسع...  human\n",
      "2847  يروم هذا المقال تقديم مقاربة لسانية لنص تراثيّ...  human\n",
      "2848  تعدّ الرّوابط اللّغوية إحدى اللّبنات الأساسية ...  human\n",
      "2849  يمكن صياغة التوقيعات البلاغية وفق المعايير الج...  human\n",
      "2850  يحاول هذا المقال أن يقدم نظرة حول القيم التي ت...  human\n",
      "\n",
      "[2851 rows x 2 columns]\n"
     ]
    }
   ],
   "source": [
    "human_df = pd.DataFrame({\n",
    "    'text': df['original_abstract'],\n",
    "    'label': 'human'\n",
    "})\n",
    "print(human_df)"
   ]
  },
  {
   "cell_type": "code",
   "execution_count": 26,
   "id": "7cc2b640",
   "metadata": {},
   "outputs": [
    {
     "name": "stdout",
     "output_type": "stream",
     "text": [
      "                                                   text label\n",
      "0     يتناول هذا البحث موضوع التعليم بين النساء الأن...    ai\n",
      "1     يتناول هذا البحث دراسة انهيار دولة الموحدين من...    ai\n",
      "2     هدفت هذه الدراسة إلى تسليط الضوء على جهود قادة...    ai\n",
      "3     يتناول هذا البحث إشكالية الضرائب غير الشرعية ف...    ai\n",
      "4     تتناول هذه الدراسة حركة الانتصار للحريات الديم...    ai\n",
      "...                                                 ...   ...\n",
      "2846  اللغة الشعرية عند المتنبي تعد من أعظم الظواهر ...    ai\n",
      "2847  يقدم هذا المقال دراسة لسانية لكتاب \"مفتاح العل...    ai\n",
      "2848  في هذا البحث نستكشف الأدوار الحجاجية للأداة \"ح...    ai\n",
      "2849  هوية المعنى الشعري في ضوء البلاغة الجديدة تتجل...    ai\n",
      "2850  يحاول هذا البحث استكشاف القيم الصوتية المميزة ...    ai\n",
      "\n",
      "[11404 rows x 2 columns]\n"
     ]
    }
   ],
   "source": [
    "ai_df = pd.DataFrame({\n",
    "    'text': pd.concat([\n",
    "        df['allam_generated_abstract'],\n",
    "        df['jais_generated_abstract'],\n",
    "        df['llama_generated_abstract'],\n",
    "        df['openai_generated_abstract']\n",
    "    ]),\n",
    "    'label': 'ai'\n",
    "})\n",
    "print(ai_df)"
   ]
  },
  {
   "cell_type": "code",
   "execution_count": 27,
   "id": "9c28c57c",
   "metadata": {},
   "outputs": [
    {
     "name": "stdout",
     "output_type": "stream",
     "text": [
      "\n",
      " هل البيانات من كتابة الانسان ام مولدة ب الذكاء الاصطناعي؟:\n"
     ]
    },
    {
     "data": {
      "text/html": [
       "<div>\n",
       "<style scoped>\n",
       "    .dataframe tbody tr th:only-of-type {\n",
       "        vertical-align: middle;\n",
       "    }\n",
       "\n",
       "    .dataframe tbody tr th {\n",
       "        vertical-align: top;\n",
       "    }\n",
       "\n",
       "    .dataframe thead th {\n",
       "        text-align: right;\n",
       "    }\n",
       "</style>\n",
       "<table border=\"1\" class=\"dataframe\">\n",
       "  <thead>\n",
       "    <tr style=\"text-align: right;\">\n",
       "      <th></th>\n",
       "      <th>text</th>\n",
       "      <th>label</th>\n",
       "    </tr>\n",
       "  </thead>\n",
       "  <tbody>\n",
       "    <tr>\n",
       "      <th>0</th>\n",
       "      <td>كثيرا ما ارتبطت المصادر التاريخية في الأندلس خ...</td>\n",
       "      <td>human</td>\n",
       "    </tr>\n",
       "    <tr>\n",
       "      <th>1</th>\n",
       "      <td>يعد العامل الثقافي احد ابرز الاسباب التي يعزى ...</td>\n",
       "      <td>human</td>\n",
       "    </tr>\n",
       "    <tr>\n",
       "      <th>2</th>\n",
       "      <td>شكلت تلك الجهود والمساعي الرائدة التي قام بها ...</td>\n",
       "      <td>human</td>\n",
       "    </tr>\n",
       "    <tr>\n",
       "      <th>3</th>\n",
       "      <td>يقوم المقال على اشكالية الضرائب الغير شرعية في...</td>\n",
       "      <td>human</td>\n",
       "    </tr>\n",
       "    <tr>\n",
       "      <th>4</th>\n",
       "      <td>تتفق المصادر التاريخية المتوفرة حول موضوع تطور...</td>\n",
       "      <td>human</td>\n",
       "    </tr>\n",
       "    <tr>\n",
       "      <th>...</th>\n",
       "      <td>...</td>\n",
       "      <td>...</td>\n",
       "    </tr>\n",
       "    <tr>\n",
       "      <th>14250</th>\n",
       "      <td>اللغة الشعرية عند المتنبي تعد من أعظم الظواهر ...</td>\n",
       "      <td>ai</td>\n",
       "    </tr>\n",
       "    <tr>\n",
       "      <th>14251</th>\n",
       "      <td>يقدم هذا المقال دراسة لسانية لكتاب \"مفتاح العل...</td>\n",
       "      <td>ai</td>\n",
       "    </tr>\n",
       "    <tr>\n",
       "      <th>14252</th>\n",
       "      <td>في هذا البحث نستكشف الأدوار الحجاجية للأداة \"ح...</td>\n",
       "      <td>ai</td>\n",
       "    </tr>\n",
       "    <tr>\n",
       "      <th>14253</th>\n",
       "      <td>هوية المعنى الشعري في ضوء البلاغة الجديدة تتجل...</td>\n",
       "      <td>ai</td>\n",
       "    </tr>\n",
       "    <tr>\n",
       "      <th>14254</th>\n",
       "      <td>يحاول هذا البحث استكشاف القيم الصوتية المميزة ...</td>\n",
       "      <td>ai</td>\n",
       "    </tr>\n",
       "  </tbody>\n",
       "</table>\n",
       "<p>14255 rows × 2 columns</p>\n",
       "</div>"
      ],
      "text/plain": [
       "                                                    text  label\n",
       "0      كثيرا ما ارتبطت المصادر التاريخية في الأندلس خ...  human\n",
       "1      يعد العامل الثقافي احد ابرز الاسباب التي يعزى ...  human\n",
       "2      شكلت تلك الجهود والمساعي الرائدة التي قام بها ...  human\n",
       "3      يقوم المقال على اشكالية الضرائب الغير شرعية في...  human\n",
       "4      تتفق المصادر التاريخية المتوفرة حول موضوع تطور...  human\n",
       "...                                                  ...    ...\n",
       "14250  اللغة الشعرية عند المتنبي تعد من أعظم الظواهر ...     ai\n",
       "14251  يقدم هذا المقال دراسة لسانية لكتاب \"مفتاح العل...     ai\n",
       "14252  في هذا البحث نستكشف الأدوار الحجاجية للأداة \"ح...     ai\n",
       "14253  هوية المعنى الشعري في ضوء البلاغة الجديدة تتجل...     ai\n",
       "14254  يحاول هذا البحث استكشاف القيم الصوتية المميزة ...     ai\n",
       "\n",
       "[14255 rows x 2 columns]"
      ]
     },
     "execution_count": 27,
     "metadata": {},
     "output_type": "execute_result"
    }
   ],
   "source": [
    "# ندمج الجدولين\n",
    "merged_df = pd.concat([human_df, ai_df], ignore_index=True)\n",
    "print(\"\\n هل البيانات من كتابة الانسان ام مولدة ب الذكاء الاصطناعي؟:\")\n",
    "\n",
    "merged_df"
   ]
  },
  {
   "cell_type": "code",
   "execution_count": 28,
   "id": "f4c58329",
   "metadata": {},
   "outputs": [
    {
     "name": "stdout",
     "output_type": "stream",
     "text": [
      "\n",
      " number of human vs AI\n",
      "label\n",
      "ai       11404\n",
      "human     2851\n",
      "Name: count, dtype: int64\n"
     ]
    }
   ],
   "source": [
    "print(\"\\n number of human vs AI\")\n",
    "print(merged_df['label'].value_counts())"
   ]
  },
  {
   "cell_type": "code",
   "execution_count": 29,
   "id": "35b15e76",
   "metadata": {},
   "outputs": [
    {
     "name": "stdout",
     "output_type": "stream",
     "text": [
      "text     0\n",
      "label    0\n",
      "dtype: int64\n"
     ]
    }
   ],
   "source": [
    "# التحقق من القيم المفقودة\n",
    "print(merged_df.isnull().sum())"
   ]
  },
  {
   "cell_type": "code",
   "execution_count": 30,
   "id": "56015a0c",
   "metadata": {},
   "outputs": [
    {
     "name": "stdout",
     "output_type": "stream",
     "text": [
      "0\n"
     ]
    }
   ],
   "source": [
    "# التحقق من التكرار في البيانات\n",
    "print(merged_df.duplicated().sum())"
   ]
  },
  {
   "cell_type": "code",
   "execution_count": 31,
   "id": "ec13ac5d",
   "metadata": {},
   "outputs": [
    {
     "name": "stdout",
     "output_type": "stream",
     "text": [
      "0\n"
     ]
    }
   ],
   "source": [
    "# كم عدد القيم الفارغة؟\n",
    "print(merged_df['text'].isna().sum())"
   ]
  },
  {
   "cell_type": "code",
   "execution_count": 32,
   "id": "e86db6cb",
   "metadata": {},
   "outputs": [
    {
     "name": "stdout",
     "output_type": "stream",
     "text": [
      "inconsistencies:\n",
      "['human' 'ai']\n"
     ]
    }
   ],
   "source": [
    "print(\"inconsistencies:\")\n",
    "print(merged_df['label'].unique())"
   ]
  },
  {
   "cell_type": "code",
   "execution_count": null,
   "id": "5e752f80",
   "metadata": {},
   "outputs": [],
   "source": [
    "# حفظ النسخة المدمجة كبيانات خام + تصنيف\n",
    "merged_df.to_csv(\"../data/raw/merged_dataset.csv\", index=False, encoding='utf-8-sig')"
   ]
  },
  {
   "cell_type": "code",
   "execution_count": 36,
   "id": "bf291b5b",
   "metadata": {},
   "outputs": [
    {
     "name": "stdout",
     "output_type": "stream",
     "text": [
      "📊 توزيع البيانات بحسب النوع (human vs ai):\n",
      "label\n",
      "ai       33533\n",
      "human     2992\n",
      "Name: count, dtype: int64\n",
      "\n",
      "📊 توزيع البيانات بحسب طريقة التوليد:\n",
      "source_type\n",
      "by_polishing              14239\n",
      "from_title                11990\n",
      "from_title_and_content    10296\n",
      "Name: count, dtype: int64\n"
     ]
    },
    {
     "data": {
      "text/html": [
       "<div>\n",
       "<style scoped>\n",
       "    .dataframe tbody tr th:only-of-type {\n",
       "        vertical-align: middle;\n",
       "    }\n",
       "\n",
       "    .dataframe tbody tr th {\n",
       "        vertical-align: top;\n",
       "    }\n",
       "\n",
       "    .dataframe thead th {\n",
       "        text-align: right;\n",
       "    }\n",
       "</style>\n",
       "<table border=\"1\" class=\"dataframe\">\n",
       "  <thead>\n",
       "    <tr style=\"text-align: right;\">\n",
       "      <th></th>\n",
       "      <th>text</th>\n",
       "      <th>label</th>\n",
       "      <th>source_type</th>\n",
       "    </tr>\n",
       "  </thead>\n",
       "  <tbody>\n",
       "    <tr>\n",
       "      <th>0</th>\n",
       "      <td>كثيرا ما ارتبطت المصادر التاريخية في الأندلس خ...</td>\n",
       "      <td>human</td>\n",
       "      <td>by_polishing</td>\n",
       "    </tr>\n",
       "    <tr>\n",
       "      <th>1</th>\n",
       "      <td>يعد العامل الثقافي احد ابرز الاسباب التي يعزى ...</td>\n",
       "      <td>human</td>\n",
       "      <td>by_polishing</td>\n",
       "    </tr>\n",
       "    <tr>\n",
       "      <th>2</th>\n",
       "      <td>شكلت تلك الجهود والمساعي الرائدة التي قام بها ...</td>\n",
       "      <td>human</td>\n",
       "      <td>by_polishing</td>\n",
       "    </tr>\n",
       "    <tr>\n",
       "      <th>3</th>\n",
       "      <td>يقوم المقال على اشكالية الضرائب الغير شرعية في...</td>\n",
       "      <td>human</td>\n",
       "      <td>by_polishing</td>\n",
       "    </tr>\n",
       "    <tr>\n",
       "      <th>4</th>\n",
       "      <td>تتفق المصادر التاريخية المتوفرة حول موضوع تطور...</td>\n",
       "      <td>human</td>\n",
       "      <td>by_polishing</td>\n",
       "    </tr>\n",
       "  </tbody>\n",
       "</table>\n",
       "</div>"
      ],
      "text/plain": [
       "                                                text  label   source_type\n",
       "0  كثيرا ما ارتبطت المصادر التاريخية في الأندلس خ...  human  by_polishing\n",
       "1  يعد العامل الثقافي احد ابرز الاسباب التي يعزى ...  human  by_polishing\n",
       "2  شكلت تلك الجهود والمساعي الرائدة التي قام بها ...  human  by_polishing\n",
       "3  يقوم المقال على اشكالية الضرائب الغير شرعية في...  human  by_polishing\n",
       "4  تتفق المصادر التاريخية المتوفرة حول موضوع تطور...  human  by_polishing"
      ]
     },
     "metadata": {},
     "output_type": "display_data"
    }
   ],
   "source": [
    "# البيانات مصنفة اكثر - تجربة ***\n",
    "from IPython.display import display\n",
    "\n",
    "# دالة لتحويل كل تصنيف إلى DataFrame مدموج\n",
    "def create_df_from_split(split_df, split_name):\n",
    "    # نصوص بشرية human\n",
    "    human_df = pd.DataFrame({\n",
    "        'text': pd.Series(split_df['original_abstract']),\n",
    "        'label': 'human',\n",
    "        'source_type': split_name\n",
    "    })\n",
    "    # AI مولدة من اربعة مصادر\n",
    "    ai_df = pd.DataFrame({\n",
    "        'text': pd.concat([\n",
    "            pd.Series(split_df['allam_generated_abstract']),\n",
    "            pd.Series(split_df['jais_generated_abstract']),\n",
    "            pd.Series(split_df['llama_generated_abstract']),\n",
    "            pd.Series(split_df['openai_generated_abstract'])\n",
    "        ], ignore_index=True),\n",
    "        'label': 'ai',\n",
    "        'source_type': split_name\n",
    "    })\n",
    "    # دمج النصوص البشرية مع النصوص المولدة\n",
    "    merged = pd.concat([human_df, ai_df], ignore_index=True)\n",
    "    return merged\n",
    "\n",
    "# تطبيق الدالة على كل تقسيمة من التقسيمات الثلاث\n",
    "df_polish = create_df_from_split(dataset['by_polishing'], 'by_polishing')\n",
    "df_title = create_df_from_split(dataset['from_title'], 'from_title')\n",
    "df_title_content = create_df_from_split(dataset['from_title_and_content'], 'from_title_and_content')\n",
    "\n",
    "# دمج جميع الجداول في جدول نهائي واحد\n",
    "final_df = pd.concat([df_polish, df_title, df_title_content], ignore_index=True)\n",
    "\n",
    "# تنظيف البيانات: حذف الصفوف التي تحتوي على نص فارغ أو مكرر\n",
    "final_df.dropna(subset=['text'], inplace=True)\n",
    "final_df.drop_duplicates(subset=['text'], inplace=True)\n",
    "\n",
    "# طباعة ملخص لتوزيع التصنيفات\n",
    "print(\"📊 توزيع البيانات بحسب النوع (human vs ai):\")\n",
    "print(final_df['label'].value_counts())\n",
    "\n",
    "print(\"\\n📊 توزيع البيانات بحسب طريقة التوليد:\")\n",
    "print(final_df['source_type'].value_counts())\n",
    "\n",
    "# عرض أول 5 صفوف من الجدول\n",
    "display(final_df.head())\n"
   ]
  }
 ],
 "metadata": {
  "kernelspec": {
   "display_name": ".venv",
   "language": "python",
   "name": "python3"
  },
  "language_info": {
   "codemirror_mode": {
    "name": "ipython",
    "version": 3
   },
   "file_extension": ".py",
   "mimetype": "text/x-python",
   "name": "python",
   "nbconvert_exporter": "python",
   "pygments_lexer": "ipython3",
   "version": "3.11.9"
  }
 },
 "nbformat": 4,
 "nbformat_minor": 5
}
